{
 "cells": [
  {
   "cell_type": "markdown",
   "id": "876877ea-264c-4f41-9370-083cd3c5863c",
   "metadata": {},
   "source": [
    "## Basics of Numpy\n",
    "Author: W.P"
   ]
  },
  {
   "cell_type": "markdown",
   "id": "9b8be52d-baba-4abb-8471-edbf18990055",
   "metadata": {},
   "source": [
    "#### Defining a simple array in Numpy"
   ]
  },
  {
   "cell_type": "code",
   "execution_count": 2,
   "id": "9729e0f8-a2c5-4c23-8cdc-91e0c1408623",
   "metadata": {},
   "outputs": [],
   "source": [
    "import numpy as np"
   ]
  },
  {
   "cell_type": "code",
   "execution_count": 3,
   "id": "17f19e80-f761-4482-9d25-0e870e2c74a4",
   "metadata": {},
   "outputs": [],
   "source": [
    "# Defining a simple array - 1 dimentional\n",
    "my_array = np.array([1,2,3,4,5,6,7,8,9])"
   ]
  },
  {
   "cell_type": "code",
   "execution_count": 4,
   "id": "cfe35b24-aa8a-4eaf-af62-093dfde044b0",
   "metadata": {},
   "outputs": [
    {
     "name": "stdout",
     "output_type": "stream",
     "text": [
      "[1 2 3 4 5 6 7 8 9]\n"
     ]
    }
   ],
   "source": [
    "print(my_array)"
   ]
  },
  {
   "cell_type": "markdown",
   "id": "6b6f3e4f-0e88-41a5-b07c-53e73b066090",
   "metadata": {},
   "source": [
    "#### Addition  \n",
    "\n",
    "The example defines two vectors with five elements each, then adds them together.\n",
    "- must be of the same length \n",
    "- prefereblly of the same data types \n",
    "\n"
   ]
  },
  {
   "cell_type": "code",
   "execution_count": 11,
   "id": "ac783541-e4f7-407d-8b21-b107f4edc367",
   "metadata": {},
   "outputs": [
    {
     "name": "stdout",
     "output_type": "stream",
     "text": [
      "[11 12 13 14 15]\n"
     ]
    }
   ],
   "source": [
    "a = np.array([1,2,3,4,5])\n",
    "b = np.array([10,10,10,10,10])\n",
    "c = a + b\n",
    "print(c)\n"
   ]
  },
  {
   "cell_type": "markdown",
   "id": "7d2bd1af-40c4-4908-92d2-74aa5482deac",
   "metadata": {},
   "source": [
    "#### Subtraction  \n",
    "\n",
    "The exampel defines two vectors with five elements each, then adds them together.\n",
    "- must be of the same length \n",
    "- prefereblly of the same data types "
   ]
  }
 ],
 "metadata": {
  "kernelspec": {
   "display_name": "Python 3",
   "language": "python",
   "name": "python3"
  },
  "language_info": {
   "codemirror_mode": {
    "name": "ipython",
    "version": 3
   },
   "file_extension": ".py",
   "mimetype": "text/x-python",
   "name": "python",
   "nbconvert_exporter": "python",
   "pygments_lexer": "ipython3",
   "version": "3.8.8"
  }
 },
 "nbformat": 4,
 "nbformat_minor": 5
}
