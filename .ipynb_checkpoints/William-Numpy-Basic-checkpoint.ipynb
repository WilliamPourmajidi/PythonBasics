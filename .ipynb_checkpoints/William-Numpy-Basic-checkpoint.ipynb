{
 "cells": [
  {
   "cell_type": "markdown",
   "id": "876877ea-264c-4f41-9370-083cd3c5863c",
   "metadata": {},
   "source": [
    "## Basics of Numpy\n",
    "Author: W.P"
   ]
  },
  {
   "cell_type": "code",
   "execution_count": 2,
   "id": "9729e0f8-a2c5-4c23-8cdc-91e0c1408623",
   "metadata": {},
   "outputs": [],
   "source": [
    "import numpy as np"
   ]
  },
  {
   "cell_type": "code",
   "execution_count": 9,
   "id": "17f19e80-f761-4482-9d25-0e870e2c74a4",
   "metadata": {},
   "outputs": [],
   "source": [
    "# Defining a simple array - 1 dimentional\n",
    "my_array = np.array([1,2,3,4,5,6,7,8,9])"
   ]
  },
  {
   "cell_type": "code",
   "execution_count": 7,
   "id": "cfe35b24-aa8a-4eaf-af62-093dfde044b0",
   "metadata": {},
   "outputs": [
    {
     "name": "stdout",
     "output_type": "stream",
     "text": [
      "[1 2 3 4 5 6 7 8 9]\n"
     ]
    }
   ],
   "source": [
    "print(my_array)"
   ]
  }
 ],
 "metadata": {
  "kernelspec": {
   "display_name": "Python 3 (ipykernel)",
   "language": "python",
   "name": "python3"
  },
  "language_info": {
   "codemirror_mode": {
    "name": "ipython",
    "version": 3
   },
   "file_extension": ".py",
   "mimetype": "text/x-python",
   "name": "python",
   "nbconvert_exporter": "python",
   "pygments_lexer": "ipython3",
   "version": "3.8.11"
  }
 },
 "nbformat": 4,
 "nbformat_minor": 5
}
