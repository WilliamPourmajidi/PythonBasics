{
 "cells": [
  {
   "cell_type": "markdown",
   "id": "400d30c9-7821-4a65-94cc-fba927cbf011",
   "metadata": {},
   "source": [
    "## This is our Wednesday class test for JN/JL\n",
    "### This is a test JN"
   ]
  },
  {
   "cell_type": "code",
   "execution_count": 4,
   "id": "d7669182-63f5-45ca-acc8-5837de7f7917",
   "metadata": {},
   "outputs": [],
   "source": [
    "import numpy as np"
   ]
  },
  {
   "cell_type": "markdown",
   "id": "24b14f54-c5a5-4697-9ad8-27a626653b44",
   "metadata": {},
   "source": [
    "Numpy is very famous for its fast operation on Arrays (almost 50 times faster than regular lists in Python)"
   ]
  },
  {
   "cell_type": "code",
   "execution_count": 6,
   "id": "b9816be6-85ac-4e1c-bed8-d187793014ea",
   "metadata": {},
   "outputs": [
    {
     "name": "stdout",
     "output_type": "stream",
     "text": [
      "[1 2 3 4 5 6 7 8 9]\n"
     ]
    }
   ],
   "source": [
    "my_array = np.array([1,2,3,4,5,6,7,8,9])\n",
    "print(my_array)"
   ]
  }
 ],
 "metadata": {
  "kernelspec": {
   "display_name": "Python 3 (ipykernel)",
   "language": "python",
   "name": "python3"
  },
  "language_info": {
   "codemirror_mode": {
    "name": "ipython",
    "version": 3
   },
   "file_extension": ".py",
   "mimetype": "text/x-python",
   "name": "python",
   "nbconvert_exporter": "python",
   "pygments_lexer": "ipython3",
   "version": "3.8.11"
  }
 },
 "nbformat": 4,
 "nbformat_minor": 5
}
