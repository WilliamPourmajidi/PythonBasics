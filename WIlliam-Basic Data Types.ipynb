{
 "cells": [
  {
   "cell_type": "code",
   "execution_count": 51,
   "id": "35277d3c-6fd1-4460-b59f-e47a3d75fa2a",
   "metadata": {},
   "outputs": [],
   "source": [
    "!jt -t solarizedl -T -N -kl\n"
   ]
  },
  {
   "cell_type": "markdown",
   "id": "ce052dd9-b636-4544-852d-eba4ae0f1703",
   "metadata": {},
   "source": [
    "## Basic Data Types in Python"
   ]
  },
  {
   "cell_type": "code",
   "execution_count": 40,
   "id": "1e8aaedd-fbd4-4d07-9c8e-9a9d756fa9f7",
   "metadata": {},
   "outputs": [],
   "source": [
    "x1 = 3\n",
    "x2 = 3.1\n",
    "x3 = \"This is a string\" \n",
    "x4 = [1,12,3,3]\n",
    "x5 = {'name':'test'}\n",
    "x6 = True"
   ]
  },
  {
   "cell_type": "code",
   "execution_count": 41,
   "id": "7a8672f9-9613-49f5-b812-b3027b559f17",
   "metadata": {},
   "outputs": [
    {
     "name": "stdout",
     "output_type": "stream",
     "text": [
      "<class 'int'>\n",
      "<class 'float'>\n",
      "<class 'str'>\n",
      "<class 'list'>\n",
      "<class 'dict'>\n",
      "<class 'bool'>\n"
     ]
    }
   ],
   "source": [
    "print(type(x1))\n",
    "print(type(x2))\n",
    "print(type(x3))\n",
    "print(type(x4))\n",
    "print(type(x5))\n",
    "print(type(x6))"
   ]
  },
  {
   "cell_type": "markdown",
   "id": "d7bd6fa7-6318-40e0-ade9-7f82ed0837d3",
   "metadata": {},
   "source": [
    "## Sequence Data Types in Python"
   ]
  },
  {
   "cell_type": "markdown",
   "id": "9f94e6a8-7dd7-4c19-8915-79e09a959936",
   "metadata": {},
   "source": [
    "#### Lists  --> Symbol [] , Mutable, Allow Duplicates, Ordered"
   ]
  },
  {
   "cell_type": "code",
   "execution_count": 31,
   "id": "a033ed03-bd9c-4a2d-b527-be1bc21bb524",
   "metadata": {},
   "outputs": [
    {
     "name": "stdout",
     "output_type": "stream",
     "text": [
      "['Foo', 'Basketball', 'Soccer', 'Kickboxing', 48, 'Basketball']\n",
      "<class 'list'>\n",
      "The value at index 0 in this list is Foo\n"
     ]
    }
   ],
   "source": [
    "a_list = [\"Foo\", \"Basketball\",\"Soccer\",\"Kickboxing\", 48, \"Basketball\"]\n",
    "print(a_list)\n",
    "print(type(a_list))\n",
    "# Support for Index \n",
    "print(f'The value at index 0 in this list is {a_list[0]}')"
   ]
  },
  {
   "cell_type": "code",
   "execution_count": null,
   "id": "0c755e7a-9ac1-4eba-994e-1b00dc8a4a2b",
   "metadata": {},
   "outputs": [],
   "source": []
  }
 ],
 "metadata": {
  "kernelspec": {
   "display_name": "Python 3 (ipykernel)",
   "language": "python",
   "name": "python3"
  },
  "language_info": {
   "codemirror_mode": {
    "name": "ipython",
    "version": 3
   },
   "file_extension": ".py",
   "mimetype": "text/x-python",
   "name": "python",
   "nbconvert_exporter": "python",
   "pygments_lexer": "ipython3",
   "version": "3.8.11"
  }
 },
 "nbformat": 4,
 "nbformat_minor": 5
}
