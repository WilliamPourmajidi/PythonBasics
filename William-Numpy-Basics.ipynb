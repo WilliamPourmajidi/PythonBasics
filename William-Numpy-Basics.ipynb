{
 "cells": [
  {
   "cell_type": "markdown",
   "id": "876877ea-264c-4f41-9370-083cd3c5863c",
   "metadata": {},
   "source": [
    "## Basics of Numpy\n",
    "Author: W.P"
   ]
  },
  {
   "cell_type": "markdown",
   "id": "9b8be52d-baba-4abb-8471-edbf18990055",
   "metadata": {},
   "source": [
    "#### Defining a simple array in Numpy\n",
    "\n",
    "- Also known as vectors (collection of scalar values)"
   ]
  },
  {
   "cell_type": "code",
   "execution_count": 1,
   "id": "9729e0f8-a2c5-4c23-8cdc-91e0c1408623",
   "metadata": {},
   "outputs": [],
   "source": [
    "import numpy as np"
   ]
  },
  {
   "cell_type": "code",
   "execution_count": 2,
   "id": "17f19e80-f761-4482-9d25-0e870e2c74a4",
   "metadata": {},
   "outputs": [],
   "source": [
    "# Defining a simple array - 1 dimentional\n",
    "my_array = np.array([1,2,3,4,5,6,7,8,9])"
   ]
  },
  {
   "cell_type": "code",
   "execution_count": 3,
   "id": "cfe35b24-aa8a-4eaf-af62-093dfde044b0",
   "metadata": {},
   "outputs": [
    {
     "name": "stdout",
     "output_type": "stream",
     "text": [
      "[1 2 3 4 5 6 7 8 9]\n"
     ]
    }
   ],
   "source": [
    "print(my_array)"
   ]
  },
  {
   "cell_type": "markdown",
   "id": "6b6f3e4f-0e88-41a5-b07c-53e73b066090",
   "metadata": {},
   "source": [
    "#### Addition  \n",
    "\n",
    "The example defines two vectors with five elements each, then adds them together.\n",
    "- must be of the same length \n",
    "- preferably of the same data types \n",
    "\n"
   ]
  },
  {
   "cell_type": "code",
   "execution_count": 4,
   "id": "ac783541-e4f7-407d-8b21-b107f4edc367",
   "metadata": {},
   "outputs": [
    {
     "name": "stdout",
     "output_type": "stream",
     "text": [
      "[11 12 13 14 15]\n"
     ]
    }
   ],
   "source": [
    "a = np.array([1,2,3,4,5])\n",
    "b = np.array([10,10,10,10,10])\n",
    "c = a + b\n",
    "print(c)\n"
   ]
  },
  {
   "cell_type": "markdown",
   "id": "7d2bd1af-40c4-4908-92d2-74aa5482deac",
   "metadata": {},
   "source": [
    "#### Subtraction  \n",
    "\n",
    "The example defines two vectors with five elements each, then subtract the second one from the first one.\n",
    "- must be of the same length \n",
    "- preferably of the same data types "
   ]
  },
  {
   "cell_type": "code",
   "execution_count": 5,
   "id": "e04948d5-cedf-4169-be11-eb303bf69497",
   "metadata": {},
   "outputs": [
    {
     "name": "stdout",
     "output_type": "stream",
     "text": [
      "[9 8 7 6 5]\n"
     ]
    }
   ],
   "source": [
    "a = np.array([1,2,3,4,5])\n",
    "b = np.array([10,10,10,10,10])\n",
    "c = b - a\n",
    "print(c)"
   ]
  },
  {
   "cell_type": "markdown",
   "id": "f25328b8-d29d-4d9e-8443-e3a83071c72e",
   "metadata": {},
   "source": [
    "#### Multiplication  \n",
    "\n",
    "The example defines two vectors with five elements each, then multiply them.\n",
    "- must be of the same length \n",
    "- preferably of the same data types "
   ]
  },
  {
   "cell_type": "code",
   "execution_count": 6,
   "id": "b2ca77aa-2c21-40cf-ab8a-28db4d7ad806",
   "metadata": {},
   "outputs": [
    {
     "name": "stdout",
     "output_type": "stream",
     "text": [
      "[10 20 30 40 50]\n"
     ]
    }
   ],
   "source": [
    "a = np.array([1,2,3,4,5])\n",
    "b = np.array([10,10,10,10,10])\n",
    "c = a * b\n",
    "print(c)"
   ]
  },
  {
   "cell_type": "markdown",
   "id": "ba446f9d-ffe3-40ba-a68e-5442ca01b9af",
   "metadata": {},
   "source": [
    "#### Division  \n",
    "\n",
    "The example defines two vectors with five elements each, then divide the first one with the second one.\n",
    "- must be of the same length \n",
    "- mind the type change\n"
   ]
  },
  {
   "cell_type": "code",
   "execution_count": 7,
   "id": "eeaf108c-af44-46de-a69d-3f2d9d95c3e3",
   "metadata": {},
   "outputs": [
    {
     "name": "stdout",
     "output_type": "stream",
     "text": [
      "[1. 2. 3. 4. 5.]\n",
      "<class 'numpy.ndarray'>\n",
      "int32\n",
      "int32\n",
      "float64\n"
     ]
    }
   ],
   "source": [
    "a = np.array([10,20,30,40,50])\n",
    "b = np.array([10,10,10,10,10])\n",
    "\n",
    "c = a / b\n",
    "print(c)\n",
    "print(type(c))\n",
    "print(a.dtype)\n",
    "print(b.dtype)\n",
    "print(c.dtype)  # changed to float!"
   ]
  },
  {
   "cell_type": "markdown",
   "id": "33f39e92-da4f-4ca1-a498-770c561e81a7",
   "metadata": {},
   "source": [
    "#### Vector Dot Product\n",
    "\n",
    "We can calculate the sum of the multiplied elements of two vectors of the same length. The result would be a scalar.\n",
    "\n",
    "In the following example, we take the first vector and multiply it to the corresponding element (same index) of the second array and then sum them up.\n",
    "\n",
    "That is \n",
    "\n",
    "a . b = (1 x 10) + (2 x 5) + (4 x 2)  \n",
    "a . b = 10 + 10 + 8\n",
    "The final product\n",
    "a . b = 28 "
   ]
  },
  {
   "cell_type": "code",
   "execution_count": 8,
   "id": "a216224b-eae9-4d5b-bc41-1f8d4bdfa70a",
   "metadata": {},
   "outputs": [
    {
     "name": "stdout",
     "output_type": "stream",
     "text": [
      "28\n"
     ]
    }
   ],
   "source": [
    "a = np.array([1,2,4])\n",
    "b = np.array([10,5,2])\n",
    "c = a.dot(b)\n",
    "print(c)"
   ]
  },
  {
   "cell_type": "markdown",
   "id": "fd4efc72-4263-4187-b065-ca96f657e2b1",
   "metadata": {},
   "source": [
    "#### Vector-Scalar multiplication/addition/subtraction/division\n",
    "\n",
    "- Vector can be multiplied by a scalar, in effect scaling the magnitude of the vector. \n",
    "- The multiplication is performed on each element of the vector to result in a new scaled vector of the same length.\n",
    "- Similarly, vector-scalar addition, subtraction, and division can be performed in the same way.\n",
    "\n",
    " \n"
   ]
  },
  {
   "cell_type": "code",
   "execution_count": 9,
   "id": "91716803-5ba5-4d56-a0ae-807a4a084d82",
   "metadata": {},
   "outputs": [
    {
     "name": "stdout",
     "output_type": "stream",
     "text": [
      "a * 5 =  [ 50 100 150 200 250]\n",
      "a + 5 =  [15 25 35 45 55]\n",
      "a - 5 =  [ 5 15 25 35 45]\n",
      "a / 5 =  [ 2.  4.  6.  8. 10.]\n"
     ]
    }
   ],
   "source": [
    "a = np.array([10,20,30,40,50])\n",
    "b = a * 5 \n",
    "c = a + 5 \n",
    "d = a - 5 \n",
    "e = a / 5 \n",
    "print(\"a * 5 = \",b)\n",
    "print(\"a + 5 = \",c)\n",
    "print(\"a - 5 = \",d)\n",
    "print(\"a / 5 = \",e) # mind the data type change\n",
    "\n"
   ]
  },
  {
   "cell_type": "markdown",
   "id": "781c06e8-c073-42ae-9faf-3e8c82a3b10a",
   "metadata": {},
   "source": []
  }
 ],
 "metadata": {
  "kernelspec": {
   "display_name": "Python 3",
   "language": "python",
   "name": "python3"
  },
  "language_info": {
   "codemirror_mode": {
    "name": "ipython",
    "version": 3
   },
   "file_extension": ".py",
   "mimetype": "text/x-python",
   "name": "python",
   "nbconvert_exporter": "python",
   "pygments_lexer": "ipython3",
   "version": "3.8.8"
  }
 },
 "nbformat": 4,
 "nbformat_minor": 5
}
