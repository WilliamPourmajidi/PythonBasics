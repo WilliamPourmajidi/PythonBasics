{
 "cells": [
  {
   "cell_type": "markdown",
   "id": "876877ea-264c-4f41-9370-083cd3c5863c",
   "metadata": {},
   "source": [
    "## Basics of Numpy\n",
    "Author: W.P"
   ]
  },
  {
   "cell_type": "markdown",
   "id": "9b8be52d-baba-4abb-8471-edbf18990055",
   "metadata": {},
   "source": [
    "#### Defining a simple array in Numpy \n",
    "\n",
    "- Also known as vectors (collection of scalar values)"
   ]
  },
  {
   "cell_type": "code",
   "execution_count": 1,
   "id": "9729e0f8-a2c5-4c23-8cdc-91e0c1408623",
   "metadata": {},
   "outputs": [],
   "source": [
    "import numpy as np"
   ]
  },
  {
   "cell_type": "code",
   "execution_count": 2,
   "id": "17f19e80-f761-4482-9d25-0e870e2c74a4",
   "metadata": {},
   "outputs": [],
   "source": [
    "# Defining a simple array - 1 dimentional\n",
    "my_array = np.array([1,2,3,4,5,6,7,8,9])"
   ]
  },
  {
   "cell_type": "code",
   "execution_count": 3,
   "id": "cfe35b24-aa8a-4eaf-af62-093dfde044b0",
   "metadata": {},
   "outputs": [
    {
     "name": "stdout",
     "output_type": "stream",
     "text": [
      "[1 2 3 4 5 6 7 8 9]\n"
     ]
    }
   ],
   "source": [
    "print(my_array)"
   ]
  },
  {
   "cell_type": "markdown",
   "id": "6b6f3e4f-0e88-41a5-b07c-53e73b066090",
   "metadata": {},
   "source": [
    "#### Addition  \n",
    "\n",
    "The example defines two vectors with five elements each, then adds them together.\n",
    "- must be of the same length \n",
    "- preferably of the same data types \n",
    "\n"
   ]
  },
  {
   "cell_type": "code",
   "execution_count": 4,
   "id": "ac783541-e4f7-407d-8b21-b107f4edc367",
   "metadata": {},
   "outputs": [
    {
     "name": "stdout",
     "output_type": "stream",
     "text": [
      "[11 12 13 14 15]\n"
     ]
    }
   ],
   "source": [
    "a = np.array([1,2,3,4,5])\n",
    "b = np.array([10,10,10,10,10])\n",
    "c = a + b\n",
    "print(c)"
   ]
  },
  {
   "cell_type": "markdown",
   "id": "7d2bd1af-40c4-4908-92d2-74aa5482deac",
   "metadata": {},
   "source": [
    "#### Subtraction  \n",
    "\n",
    "The example defines two vectors with five elements each, then subtract the second one from the first one.\n",
    "- must be of the same length \n",
    "- preferably of the same data types "
   ]
  },
  {
   "cell_type": "code",
   "execution_count": 5,
   "id": "e04948d5-cedf-4169-be11-eb303bf69497",
   "metadata": {},
   "outputs": [
    {
     "name": "stdout",
     "output_type": "stream",
     "text": [
      "[9 8 7 6 5]\n"
     ]
    }
   ],
   "source": [
    "a = np.array([1,2,3,4,5])\n",
    "b = np.array([10,10,10,10,10])\n",
    "c = b - a\n",
    "print(c)"
   ]
  },
  {
   "cell_type": "markdown",
   "id": "f25328b8-d29d-4d9e-8443-e3a83071c72e",
   "metadata": {},
   "source": [
    "#### Multiplication  \n",
    "\n",
    "The example defines two vectors with five elements each, then multiply them.\n",
    "- must be of the same length \n",
    "- preferably of the same data types "
   ]
  },
  {
   "cell_type": "code",
   "execution_count": 6,
   "id": "b2ca77aa-2c21-40cf-ab8a-28db4d7ad806",
   "metadata": {},
   "outputs": [
    {
     "name": "stdout",
     "output_type": "stream",
     "text": [
      "[10 20 30 40 50]\n"
     ]
    }
   ],
   "source": [
    "# Vector x Vector \n",
    "a = np.array([1,2,3,4,5])\n",
    "b = np.array([10,10,10,10,10])\n",
    "c = a * b\n",
    "print(c)\n",
    "\n"
   ]
  },
  {
   "cell_type": "markdown",
   "id": "ba446f9d-ffe3-40ba-a68e-5442ca01b9af",
   "metadata": {},
   "source": [
    "#### Division  \n",
    "\n",
    "The example defines two vectors with five elements each, then divide the first one with the second one.\n",
    "- must be of the same length \n",
    "- mind the type change\n"
   ]
  },
  {
   "cell_type": "code",
   "execution_count": 7,
   "id": "eeaf108c-af44-46de-a69d-3f2d9d95c3e3",
   "metadata": {},
   "outputs": [
    {
     "name": "stdout",
     "output_type": "stream",
     "text": [
      "[1. 2. 3. 4. 5.]\n",
      "<class 'numpy.ndarray'>\n",
      "int32\n",
      "int32\n",
      "float64\n"
     ]
    }
   ],
   "source": [
    "a = np.array([10,20,30,40,50])\n",
    "b = np.array([10,10,10,10,10])\n",
    "\n",
    "c = a / b\n",
    "print(c)\n",
    "print(type(c))\n",
    "print(a.dtype)\n",
    "print(b.dtype)\n",
    "print(c.dtype)  # changed to float!"
   ]
  },
  {
   "cell_type": "markdown",
   "id": "33f39e92-da4f-4ca1-a498-770c561e81a7",
   "metadata": {},
   "source": [
    "#### Vector Dot Product\n",
    "\n",
    "We can calculate the sum of the multiplied elements of two vectors of the same length. The result would be a scalar.\n",
    "\n",
    "In the following example, we take the first vector and multiply it to the corresponding element (same index) of the second array and then sum them up.\n",
    "\n",
    "That is \n",
    "\n",
    "a . b = (1 x 10) + (2 x 5) + (4 x 2)  \n",
    "a . b = 10 + 10 + 8\n",
    "The final product\n",
    "a . b = 28 "
   ]
  },
  {
   "cell_type": "code",
   "execution_count": 8,
   "id": "a216224b-eae9-4d5b-bc41-1f8d4bdfa70a",
   "metadata": {},
   "outputs": [
    {
     "name": "stdout",
     "output_type": "stream",
     "text": [
      "28\n"
     ]
    }
   ],
   "source": [
    "a = np.array([1,2,4])\n",
    "b = np.array([10,5,2])\n",
    "c = a.dot(b)\n",
    "print(c)"
   ]
  },
  {
   "cell_type": "markdown",
   "id": "fd4efc72-4263-4187-b065-ca96f657e2b1",
   "metadata": {},
   "source": [
    "#### Vector-Scalar multiplication/addition/subtraction/division\n",
    "\n",
    "- Vector can be multiplied by a scalar, in effect scaling the magnitude of the vector. \n",
    "- The multiplication is performed on each element of the vector to result in a new scaled vector of the same length.\n",
    "- Similarly, vector-scalar addition, subtraction, and division can be performed in the same way.\n",
    "\n",
    " \n"
   ]
  },
  {
   "cell_type": "code",
   "execution_count": 9,
   "id": "91716803-5ba5-4d56-a0ae-807a4a084d82",
   "metadata": {},
   "outputs": [
    {
     "name": "stdout",
     "output_type": "stream",
     "text": [
      "a * 5 =  [ 50 100 150 200 250]\n",
      "a + 5 =  [15 25 35 45 55]\n",
      "a - 5 =  [ 5 15 25 35 45]\n",
      "a / 5 =  [ 2.  4.  6.  8. 10.]\n"
     ]
    }
   ],
   "source": [
    "a = np.array([10,20,30,40,50])\n",
    "b = a * 5 \n",
    "c = a + 5 \n",
    "d = a - 5 \n",
    "e = a / 5 \n",
    "print(\"a * 5 = \",b)\n",
    "print(\"a + 5 = \",c)\n",
    "print(\"a - 5 = \",d)\n",
    "print(\"a / 5 = \",e) # mind the data type change\n",
    "\n"
   ]
  },
  {
   "cell_type": "markdown",
   "id": "781c06e8-c073-42ae-9faf-3e8c82a3b10a",
   "metadata": {},
   "source": [
    "#### 1D-Array (Vector) initialization with __arange__  and Data Retrieval (slicing and boolean indexing)"
   ]
  },
  {
   "cell_type": "code",
   "execution_count": 10,
   "id": "46594a3b-ec3c-4dbd-9770-077fc65ba32a",
   "metadata": {},
   "outputs": [
    {
     "name": "stdout",
     "output_type": "stream",
     "text": [
      "[0 1 2 3 4 5 6 7 8 9]\n",
      "[0 1]\n",
      "[8 9]\n",
      "True\n",
      "False\n",
      "[6 7 8 9]\n"
     ]
    }
   ],
   "source": [
    "a = np.arange(0,10,1)\n",
    "print(a)\n",
    "# Slicing\n",
    "print(a[0:2])  # the first two \n",
    "print(a[-2:])  # the last two\n",
    "\n",
    "# Boolean Indexing\n",
    "print(np.any(a > 5)) # check to see if any value exist that is greater than 5 and if yes, return True, otherwise False\n",
    "print(np.all(a>5)) # check to see if all values of a are greater than 5 and if yes, return True, otherwise False\n",
    "print(a[a>5]) # return any item that is bigger than 5\n"
   ]
  },
  {
   "cell_type": "markdown",
   "id": "ca2e0aa1-c812-42dd-8825-774f72f7548c",
   "metadata": {},
   "source": [
    "#### 2D-Array (Matrix) initialization "
   ]
  },
  {
   "cell_type": "code",
   "execution_count": 11,
   "id": "727d9bd1-c582-470a-9cab-a899d46d2dab",
   "metadata": {},
   "outputs": [],
   "source": [
    "my_2d_array_1 = np.array([[1,2,3],[4,5,6]])"
   ]
  },
  {
   "cell_type": "code",
   "execution_count": 12,
   "id": "e6b20c7c-5849-48bf-9077-fb0051418067",
   "metadata": {},
   "outputs": [
    {
     "name": "stdout",
     "output_type": "stream",
     "text": [
      "[[1 2 3]\n",
      " [4 5 6]]\n",
      "shape of the array is : (2, 3)\n"
     ]
    }
   ],
   "source": [
    "print(my_2d_array_1)\n",
    "print(\"shape of the array is :\" , my_2d_array_1.shape)"
   ]
  },
  {
   "cell_type": "code",
   "execution_count": 13,
   "id": "793bdba4-7959-4991-a53a-2f416ae79324",
   "metadata": {},
   "outputs": [
    {
     "name": "stdout",
     "output_type": "stream",
     "text": [
      "[[ 1  2  3  4]\n",
      " [ 5  6  7  8]\n",
      " [ 9 10 11 12]]\n",
      "shape of the array is :  (3, 4)\n"
     ]
    }
   ],
   "source": [
    "my_2d_array_2 = np.array([[1,2,3,4],[5,6,7,8],[9,10,11,12]])\n",
    "print(my_2d_array_2)\n",
    "print(\"shape of the array is : \", my_2d_array_2.shape)"
   ]
  },
  {
   "cell_type": "markdown",
   "id": "404b346d-346c-4bcf-9405-f98b14d717fb",
   "metadata": {},
   "source": [
    "#### 2D-Array Indexing"
   ]
  },
  {
   "cell_type": "code",
   "execution_count": 14,
   "id": "9b1a50a1-64f8-4da1-8c27-54343e97e789",
   "metadata": {},
   "outputs": [
    {
     "name": "stdout",
     "output_type": "stream",
     "text": [
      "[1 2 3 4]\n"
     ]
    }
   ],
   "source": [
    "print(my_2d_array_2[0,0:4])  # Row 1 , all columns"
   ]
  },
  {
   "cell_type": "code",
   "execution_count": 15,
   "id": "bb6fb9c6-1e99-4db5-a95c-e1d610999312",
   "metadata": {},
   "outputs": [
    {
     "name": "stdout",
     "output_type": "stream",
     "text": [
      "[5 6 7 8]\n"
     ]
    }
   ],
   "source": [
    "print(my_2d_array_2[1,0:4])  # Row 2 , all columns"
   ]
  },
  {
   "cell_type": "code",
   "execution_count": 16,
   "id": "740f4490-9932-40a9-9795-d7f90724da1e",
   "metadata": {},
   "outputs": [
    {
     "name": "stdout",
     "output_type": "stream",
     "text": [
      "[2 3]\n"
     ]
    }
   ],
   "source": [
    "print(my_2d_array_2[0,1:3])  # Row 1 , two middle columns"
   ]
  },
  {
   "cell_type": "code",
   "execution_count": 17,
   "id": "6128edc0-c2c9-4ef4-98d8-1553e583afe3",
   "metadata": {},
   "outputs": [
    {
     "name": "stdout",
     "output_type": "stream",
     "text": [
      "[ 4  8 12]\n"
     ]
    }
   ],
   "source": [
    "print(my_2d_array_2[0:3,3])  # Row 1 to 3 , last column"
   ]
  },
  {
   "cell_type": "code",
   "execution_count": 18,
   "id": "df071c2b-8d00-43e2-9b42-0d2117b599e2",
   "metadata": {},
   "outputs": [
    {
     "name": "stdout",
     "output_type": "stream",
     "text": [
      "[[ 1  2]\n",
      " [ 5  6]\n",
      " [ 9 10]]\n"
     ]
    }
   ],
   "source": [
    "print(my_2d_array_2[0:3,0:2])  # Row 1 to 3 , first two column"
   ]
  },
  {
   "cell_type": "markdown",
   "id": "5024d142-4f69-47b6-a2ce-4c5e64b69d83",
   "metadata": {},
   "source": [
    "#### 2D-Arrays and Axes "
   ]
  },
  {
   "cell_type": "code",
   "execution_count": 19,
   "id": "b5487a60-2e2a-4747-8b43-290a8effcd48",
   "metadata": {},
   "outputs": [
    {
     "name": "stdout",
     "output_type": "stream",
     "text": [
      "[[0 1 2]\n",
      " [3 4 5]\n",
      " [6 7 8]]\n",
      "The sum across vertical axis (axis = 0) is :  [ 9 12 15]\n",
      "The sum across horizontal axis (axis = 1) is :  [ 3 12 21]\n"
     ]
    }
   ],
   "source": [
    "my_2d_array_3 = np.array([[0,1,2],[3,4,5],[6,7,8]])\n",
    "print(my_2d_array_3)\n",
    "print(\"The sum across vertical axis (axis = 0) is : \",np.sum(my_2d_array_3, axis = 0)) # sums down the columns\n",
    "print(\"The sum across horizontal axis (axis = 1) is : \",np.sum(my_2d_array_3, axis = 1)) # sums down the columns"
   ]
  },
  {
   "cell_type": "markdown",
   "id": "e84f8ed7-5123-4ca7-adc2-0a090adeb35b",
   "metadata": {},
   "source": [
    "![alt text](images\\axis.png \"Title\")"
   ]
  },
  {
   "cell_type": "markdown",
   "id": "204af510-60cd-4a4a-857e-4d23e2599185",
   "metadata": {},
   "source": [
    "#### Numpy Concatenate \n",
    "\n",
    "When we use the axis parameter with the np.concatenate() function, the axis parameter defines the axis along which we stack the arrays."
   ]
  },
  {
   "cell_type": "code",
   "execution_count": 20,
   "id": "71930568-b82a-4466-85e2-a08205c60e8f",
   "metadata": {},
   "outputs": [
    {
     "name": "stdout",
     "output_type": "stream",
     "text": [
      "[[2 2 2]\n",
      " [2 2 2]]\n",
      "(2, 3)\n",
      "[[8 8 8]\n",
      " [8 8 8]]\n",
      "(2, 3)\n"
     ]
    }
   ],
   "source": [
    "np_array_2s = np.array ([[2,2,2],[2,2,2]])\n",
    "np_array_8s = np.array ([[8,8,8],[8,8,8]])\n",
    "print(np_array_2s)\n",
    "print(np_array_2s.shape)\n",
    "print(np_array_8s)\n",
    "print(np_array_8s.shape)"
   ]
  },
  {
   "cell_type": "markdown",
   "id": "25a68645-c3ea-4ea1-b12a-fe3ebdb2b9c8",
   "metadata": {},
   "source": [
    "##### Numpy Concatenate - Axis = 0 "
   ]
  },
  {
   "cell_type": "code",
   "execution_count": 21,
   "id": "ea285082-b1b8-47d5-ac52-8bde88bbf91a",
   "metadata": {},
   "outputs": [
    {
     "name": "stdout",
     "output_type": "stream",
     "text": [
      "[[2 2 2]\n",
      " [2 2 2]\n",
      " [8 8 8]\n",
      " [8 8 8]]\n",
      "(4, 3)\n"
     ]
    }
   ],
   "source": [
    "result = np.concatenate([np_array_2s,np_array_8s],axis = 0)\n",
    "print(result)\n",
    "print(result.shape)\n",
    "# axis = 0 will stack the arrays vertically\n",
    "# first array shape is (2,3) and the second array shape is (2,3), the result of concatination will have shape of (4,3)"
   ]
  },
  {
   "cell_type": "markdown",
   "id": "363ad5b4-f0b6-4d24-899f-35571c5a46ec",
   "metadata": {},
   "source": [
    "##### Numpy Concatenate - Axis = 1"
   ]
  },
  {
   "cell_type": "code",
   "execution_count": 22,
   "id": "3f5f4800-813b-4091-91b3-8c322d9e7940",
   "metadata": {},
   "outputs": [
    {
     "name": "stdout",
     "output_type": "stream",
     "text": [
      "[[2 2 2 8 8 8]\n",
      " [2 2 2 8 8 8]]\n",
      "(2, 6)\n"
     ]
    }
   ],
   "source": [
    "result = np.concatenate([np_array_2s,np_array_8s],axis = 1)\n",
    "print(result)\n",
    "print(result.shape)\n",
    "# axis = 1 will stack the arrays horizontally\n",
    "# first array shape is (2,3) and the second array shape is (2,3), the result of concatination will have shape of (2,6)"
   ]
  },
  {
   "cell_type": "markdown",
   "id": "e85f040f-4388-41a9-a440-9be79d7b558e",
   "metadata": {},
   "source": [
    "#### 3D-Arrays\n",
    "When you create a 3D array, the indices are (z,y,x). The first index is the number of the plane, then the coordinates go in that plane.\n",
    "![alt text](images/3d-simple-array.png \"Title\")"
   ]
  },
  {
   "cell_type": "code",
   "execution_count": 23,
   "id": "224cd3f0-2bfe-40b3-ba2b-9622833debb1",
   "metadata": {},
   "outputs": [
    {
     "name": "stdout",
     "output_type": "stream",
     "text": [
      "[[[1 2]\n",
      "  [3 4]]\n",
      "\n",
      " [[5 6]\n",
      "  [7 8]]]\n",
      "Number of dimentions:  3\n"
     ]
    }
   ],
   "source": [
    "np_array_3d_1 = np.arange(1,9).reshape(2,2,2)\n",
    "print(np_array_3d_1)\n",
    "print(\"Number of dimentions: \", np_array_3d_1.ndim)"
   ]
  },
  {
   "cell_type": "markdown",
   "id": "9ce000ec-3a9a-4a79-8838-c81716ffc570",
   "metadata": {},
   "source": [
    "##### Accessing items in a 3D array\n",
    "![alt text](images/3d-array.png \"Title\")\n"
   ]
  },
  {
   "cell_type": "code",
   "execution_count": 24,
   "id": "11d6978a-ecec-4267-be90-c11e95c0ae3a",
   "metadata": {},
   "outputs": [],
   "source": [
    "np_array_3d_2 = np.array ([[[0,0,0,0],[0,0,0,0]],[[1,1,1,1],[1,1,1,1]],[[2,2,2,2],[2,2,2,2]]])"
   ]
  },
  {
   "cell_type": "code",
   "execution_count": 25,
   "id": "e9c0380e-a139-4cda-9206-722ef5f39e76",
   "metadata": {},
   "outputs": [
    {
     "name": "stdout",
     "output_type": "stream",
     "text": [
      "[[[0 0 0 0]\n",
      "  [0 0 0 0]]\n",
      "\n",
      " [[1 1 1 1]\n",
      "  [1 1 1 1]]\n",
      "\n",
      " [[2 2 2 2]\n",
      "  [2 2 2 2]]]\n",
      "(3, 2, 4)\n",
      "Number of dimentions:  3\n"
     ]
    }
   ],
   "source": [
    "print(np_array_3d_2)\n",
    "print(np_array_3d_2.shape)\n",
    "print(\"Number of dimentions: \", np_array_3d_2.ndim)"
   ]
  },
  {
   "cell_type": "markdown",
   "id": "df039c50-8461-47bc-a134-34a0652edfd9",
   "metadata": {},
   "source": [
    "##### Example of accessing items in 3D arrays"
   ]
  },
  {
   "cell_type": "code",
   "execution_count": 26,
   "id": "cab401e5-1c01-42ed-b763-9947cd06c2fa",
   "metadata": {},
   "outputs": [],
   "source": [
    "np_array_3d_3= np.array ([[[10,20,30,40],[40,50,60,70]],[[15,25,35,45],[55,65,75,85]],[[100,200,300,400],[500,600,700,800]]])\n",
    "\n",
    "      "
   ]
  },
  {
   "cell_type": "markdown",
   "id": "3dbe75ae-3d50-4e41-8321-31e581030924",
   "metadata": {},
   "source": [
    "Accessing various items in the above array\n"
   ]
  },
  {
   "cell_type": "code",
   "execution_count": 27,
   "id": "33e306d4-f301-4ffb-a915-ad64bf03f4f5",
   "metadata": {},
   "outputs": [
    {
     "name": "stdout",
     "output_type": "stream",
     "text": [
      "60\n"
     ]
    }
   ],
   "source": [
    "print(np_array_3d_3[0,1,2]) # First matrix , second row, third item"
   ]
  },
  {
   "cell_type": "code",
   "execution_count": 28,
   "id": "88a5d068-8d12-4cf9-a06e-13145304bd04",
   "metadata": {},
   "outputs": [
    {
     "name": "stdout",
     "output_type": "stream",
     "text": [
      "800\n"
     ]
    }
   ],
   "source": [
    "print(np_array_3d_3[2,1,3]) #  Third matrix , second row, forth item"
   ]
  }
 ],
 "metadata": {
  "kernelspec": {
   "display_name": "Python 3",
   "language": "python",
   "name": "python3"
  },
  "language_info": {
   "codemirror_mode": {
    "name": "ipython",
    "version": 3
   },
   "file_extension": ".py",
   "mimetype": "text/x-python",
   "name": "python",
   "nbconvert_exporter": "python",
   "pygments_lexer": "ipython3",
   "version": "3.8.8"
  }
 },
 "nbformat": 4,
 "nbformat_minor": 5
}
